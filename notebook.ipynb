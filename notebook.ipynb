{
 "cells": [
  {
   "cell_type": "code",
   "execution_count": 1,
   "id": "beautiful-maple",
   "metadata": {
    "ExecuteTime": {
     "end_time": "2024-03-05T12:14:16.246387Z",
     "start_time": "2024-03-05T12:14:16.229388Z"
    }
   },
   "outputs": [],
   "source": [
    "import pandas as pd\n",
    "pd.set_option('display.max_rows', 100)\n",
    "pd.set_option('display.max_colwidth', 255)\n",
    "import matplotlib.pyplot as plt"
   ]
  },
  {
   "cell_type": "markdown",
   "id": "8b4c9c7a-0c71-4928-8425-9cc6ffd8bfaf",
   "metadata": {
    "jp-MarkdownHeadingCollapsed": true
   },
   "source": [
    "# Data Preproessing"
   ]
  },
  {
   "cell_type": "code",
   "execution_count": 2,
   "id": "bizarre-opportunity",
   "metadata": {
    "ExecuteTime": {
     "end_time": "2024-03-05T12:14:26.406387Z",
     "start_time": "2024-03-05T12:14:16.247387Z"
    }
   },
   "outputs": [
    {
     "name": "stdout",
     "output_type": "stream",
     "text": [
      "<class 'pandas.core.frame.DataFrame'>\n",
      "RangeIndex: 3377423 entries, 0 to 3377422\n",
      "Data columns (total 9 columns):\n",
      " #   Column              Dtype \n",
      "---  ------              ----- \n",
      " 0   Unnamed: 0          int64 \n",
      " 1   review_id           object\n",
      " 2   pseudo_author_id    object\n",
      " 3   author_name         object\n",
      " 4   review_text         object\n",
      " 5   review_rating       int64 \n",
      " 6   review_likes        int64 \n",
      " 7   author_app_version  object\n",
      " 8   review_timestamp    object\n",
      "dtypes: int64(3), object(6)\n",
      "memory usage: 231.9+ MB\n",
      "None\n"
     ]
    },
    {
     "data": {
      "text/html": [
       "<div>\n",
       "<style scoped>\n",
       "    .dataframe tbody tr th:only-of-type {\n",
       "        vertical-align: middle;\n",
       "    }\n",
       "\n",
       "    .dataframe tbody tr th {\n",
       "        vertical-align: top;\n",
       "    }\n",
       "\n",
       "    .dataframe thead th {\n",
       "        text-align: right;\n",
       "    }\n",
       "</style>\n",
       "<table border=\"1\" class=\"dataframe\">\n",
       "  <thead>\n",
       "    <tr style=\"text-align: right;\">\n",
       "      <th></th>\n",
       "      <th>Unnamed: 0</th>\n",
       "      <th>review_id</th>\n",
       "      <th>pseudo_author_id</th>\n",
       "      <th>author_name</th>\n",
       "      <th>review_text</th>\n",
       "      <th>review_rating</th>\n",
       "      <th>review_likes</th>\n",
       "      <th>author_app_version</th>\n",
       "      <th>review_timestamp</th>\n",
       "    </tr>\n",
       "  </thead>\n",
       "  <tbody>\n",
       "    <tr>\n",
       "      <th>0</th>\n",
       "      <td>0</td>\n",
       "      <td>14a011a8-7544-47b4-8480-c502af0ac26f</td>\n",
       "      <td>152618553977019693742</td>\n",
       "      <td>A Google user</td>\n",
       "      <td>Use it every day</td>\n",
       "      <td>5</td>\n",
       "      <td>1</td>\n",
       "      <td>1.1.0.91</td>\n",
       "      <td>2014-05-27 14:21:48</td>\n",
       "    </tr>\n",
       "    <tr>\n",
       "      <th>1</th>\n",
       "      <td>1</td>\n",
       "      <td>bfa8876b-470e-4640-83a7-77427f7f37e8</td>\n",
       "      <td>234382942865437071667</td>\n",
       "      <td>A Google user</td>\n",
       "      <td>I enjoy the awesome UI of this app, and it has all the music one can ask for.</td>\n",
       "      <td>5</td>\n",
       "      <td>4</td>\n",
       "      <td>1.1.0.91</td>\n",
       "      <td>2014-05-27 14:36:02</td>\n",
       "    </tr>\n",
       "    <tr>\n",
       "      <th>2</th>\n",
       "      <td>2</td>\n",
       "      <td>70e8252f-058a-47d9-b066-df9e1571c970</td>\n",
       "      <td>174473604608358796368</td>\n",
       "      <td>A Google user</td>\n",
       "      <td>Love it! Especially the new design!</td>\n",
       "      <td>5</td>\n",
       "      <td>2</td>\n",
       "      <td>1.1.0.91</td>\n",
       "      <td>2014-05-27 14:40:01</td>\n",
       "    </tr>\n",
       "    <tr>\n",
       "      <th>3</th>\n",
       "      <td>3</td>\n",
       "      <td>672a155a-e81e-4d28-bdeb-a74c031bc072</td>\n",
       "      <td>286593453219054880269</td>\n",
       "      <td>A Google user</td>\n",
       "      <td>Awesome UI, best music app out there!</td>\n",
       "      <td>5</td>\n",
       "      <td>1</td>\n",
       "      <td>1.1.0.91</td>\n",
       "      <td>2014-05-27 15:17:20</td>\n",
       "    </tr>\n",
       "    <tr>\n",
       "      <th>4</th>\n",
       "      <td>4</td>\n",
       "      <td>bbc1bf95-ed36-41a1-8b98-0f2e314caea5</td>\n",
       "      <td>167276875678680630145</td>\n",
       "      <td>A Google user</td>\n",
       "      <td>As a professional Android developer I'm glad to see the Spotify team taking security seriously. They made switching packages as painless as possible given the situation.</td>\n",
       "      <td>5</td>\n",
       "      <td>10</td>\n",
       "      <td>1.1.0.91</td>\n",
       "      <td>2014-05-27 15:26:48</td>\n",
       "    </tr>\n",
       "  </tbody>\n",
       "</table>\n",
       "</div>"
      ],
      "text/plain": [
       "   Unnamed: 0                             review_id       pseudo_author_id  \\\n",
       "0           0  14a011a8-7544-47b4-8480-c502af0ac26f  152618553977019693742   \n",
       "1           1  bfa8876b-470e-4640-83a7-77427f7f37e8  234382942865437071667   \n",
       "2           2  70e8252f-058a-47d9-b066-df9e1571c970  174473604608358796368   \n",
       "3           3  672a155a-e81e-4d28-bdeb-a74c031bc072  286593453219054880269   \n",
       "4           4  bbc1bf95-ed36-41a1-8b98-0f2e314caea5  167276875678680630145   \n",
       "\n",
       "     author_name  \\\n",
       "0  A Google user   \n",
       "1  A Google user   \n",
       "2  A Google user   \n",
       "3  A Google user   \n",
       "4  A Google user   \n",
       "\n",
       "                                                                                                                                                                 review_text  \\\n",
       "0                                                                                                                                                           Use it every day   \n",
       "1                                                                                              I enjoy the awesome UI of this app, and it has all the music one can ask for.   \n",
       "2                                                                                                                                        Love it! Especially the new design!   \n",
       "3                                                                                                                                      Awesome UI, best music app out there!   \n",
       "4  As a professional Android developer I'm glad to see the Spotify team taking security seriously. They made switching packages as painless as possible given the situation.   \n",
       "\n",
       "   review_rating  review_likes author_app_version     review_timestamp  \n",
       "0              5             1           1.1.0.91  2014-05-27 14:21:48  \n",
       "1              5             4           1.1.0.91  2014-05-27 14:36:02  \n",
       "2              5             2           1.1.0.91  2014-05-27 14:40:01  \n",
       "3              5             1           1.1.0.91  2014-05-27 15:17:20  \n",
       "4              5            10           1.1.0.91  2014-05-27 15:26:48  "
      ]
     },
     "metadata": {},
     "output_type": "display_data"
    }
   ],
   "source": [
    "df = pd.read_csv(r'data/raw_data/SPOTIFY_REVIEWS.csv')\n",
    "print(df.info())\n",
    "display(df.head())"
   ]
  },
  {
   "cell_type": "code",
   "execution_count": 3,
   "id": "textile-oregon",
   "metadata": {
    "ExecuteTime": {
     "end_time": "2024-03-05T12:14:26.731388Z",
     "start_time": "2024-03-05T12:14:26.408389Z"
    }
   },
   "outputs": [],
   "source": [
    "df = df.drop(['Unnamed: 0', 'review_id', 'pseudo_author_id'], axis=1, errors='ignore')"
   ]
  },
  {
   "cell_type": "code",
   "execution_count": 4,
   "id": "enhanced-roulette",
   "metadata": {
    "ExecuteTime": {
     "end_time": "2024-03-05T12:14:27.235389Z",
     "start_time": "2024-03-05T12:14:26.732390Z"
    }
   },
   "outputs": [
    {
     "data": {
      "text/plain": [
       "author_name                0\n",
       "review_text             1022\n",
       "review_rating              0\n",
       "review_likes               0\n",
       "author_app_version    666423\n",
       "review_timestamp           0\n",
       "dtype: int64"
      ]
     },
     "execution_count": 4,
     "metadata": {},
     "output_type": "execute_result"
    }
   ],
   "source": [
    "# Check number of nan in each column\n",
    "df.isna().sum()"
   ]
  },
  {
   "cell_type": "code",
   "execution_count": 5,
   "id": "72e78f40",
   "metadata": {
    "ExecuteTime": {
     "end_time": "2024-03-05T12:14:27.266387Z",
     "start_time": "2024-03-05T12:14:27.237388Z"
    }
   },
   "outputs": [
    {
     "data": {
      "text/plain": [
       "array([5, 3, 4, 1, 2, 0], dtype=int64)"
      ]
     },
     "execution_count": 5,
     "metadata": {},
     "output_type": "execute_result"
    }
   ],
   "source": [
    "# Check the range of rating\n",
    "df.review_rating.unique()"
   ]
  },
  {
   "cell_type": "code",
   "execution_count": 6,
   "id": "ac8f3eac",
   "metadata": {
    "ExecuteTime": {
     "end_time": "2024-03-05T12:14:27.297387Z",
     "start_time": "2024-03-05T12:14:27.267388Z"
    }
   },
   "outputs": [
    {
     "data": {
      "text/plain": [
       "1204"
      ]
     },
     "execution_count": 6,
     "metadata": {},
     "output_type": "execute_result"
    }
   ],
   "source": [
    "# Check the number unique value in review_like\n",
    "# Turns out so many variations in review_like\n",
    "df.review_likes.nunique()"
   ]
  },
  {
   "cell_type": "code",
   "execution_count": 7,
   "id": "7648f025",
   "metadata": {
    "ExecuteTime": {
     "end_time": "2024-03-05T12:14:27.593387Z",
     "start_time": "2024-03-05T12:14:27.298388Z"
    }
   },
   "outputs": [
    {
     "data": {
      "text/plain": [
       "<Axes: >"
      ]
     },
     "execution_count": 7,
     "metadata": {},
     "output_type": "execute_result"
    },
    {
     "data": {
      "image/png": "[encoded data removed]",
      "text/plain": [
       "<Figure size 640x480 with 1 Axes>"
      ]
     },
     "metadata": {},
     "output_type": "display_data"
    }
   ],
   "source": [
    "# Check the distribution of each review_like value\n",
    "# Dominated by 0 review_likes\n",
    "df.review_likes.hist(bins=200)"
   ]
  },
  {
   "cell_type": "code",
   "execution_count": 8,
   "id": "a382a38c",
   "metadata": {
    "ExecuteTime": {
     "end_time": "2024-03-05T12:14:27.625387Z",
     "start_time": "2024-03-05T12:14:27.594387Z"
    }
   },
   "outputs": [
    {
     "data": {
      "text/plain": [
       "review_likes\n",
       "0       3108438\n",
       "1        161224\n",
       "2         32192\n",
       "3         14705\n",
       "4          8882\n",
       "         ...   \n",
       "1528          1\n",
       "4219          1\n",
       "436           1\n",
       "2266          1\n",
       "1822          1\n",
       "Name: count, Length: 1204, dtype: int64"
      ]
     },
     "execution_count": 8,
     "metadata": {},
     "output_type": "execute_result"
    }
   ],
   "source": [
    "# Check number of data based on review like value\n",
    "df['review_likes'].value_counts()"
   ]
  },
  {
   "cell_type": "code",
   "execution_count": 9,
   "id": "7c1ea02a",
   "metadata": {
    "ExecuteTime": {
     "end_time": "2024-03-05T12:14:34.092388Z",
     "start_time": "2024-03-05T12:14:27.626388Z"
    }
   },
   "outputs": [
    {
     "data": {
      "image/png": "[encoded data removed]",
      "text/plain": [
       "<Figure size 640x480 with 1 Axes>"
      ]
     },
     "metadata": {},
     "output_type": "display_data"
    }
   ],
   "source": [
    "# 92% of review has 0 likes (over 3 mio of data) \n",
    "total = df['review_likes'].value_counts().values.sum()\n",
    "\n",
    "def fmt(x):\n",
    "    return '{:.1f}%\\n{:.0f}'.format(x, total*x/100)\n",
    "\n",
    "plt.pie(df['review_likes'].value_counts().values, labels=df['review_likes'].value_counts().index, autopct=fmt)\n",
    "plt.show()"
   ]
  },
  {
   "cell_type": "code",
   "execution_count": 10,
   "id": "7f5572e9",
   "metadata": {
    "ExecuteTime": {
     "end_time": "2024-03-05T12:14:34.313388Z",
     "start_time": "2024-03-05T12:14:34.093389Z"
    }
   },
   "outputs": [
    {
     "data": {
      "text/plain": [
       "review_likes\n",
       "6       4496\n",
       "7       3511\n",
       "8       2807\n",
       "9       2374\n",
       "10      1922\n",
       "        ... \n",
       "1132       1\n",
       "1233       1\n",
       "1495       1\n",
       "911        1\n",
       "1822       1\n",
       "Name: count, Length: 1198, dtype: int64"
      ]
     },
     "execution_count": 10,
     "metadata": {},
     "output_type": "execute_result"
    }
   ],
   "source": [
    "# To minimize the data and minimize the computational resources I only retain the data that has more than 5 (but in app >=5)\n",
    "# Because the number of likes represent the number of user who like the review. for example the number of review with number of like 6 is 4496 data\n",
    "# so from 4496 data it represent 6 x 4496 review from global population. \n",
    "df = df[df.review_likes>5]\n",
    "df.review_likes.value_counts()"
   ]
  },
  {
   "cell_type": "code",
   "execution_count": 11,
   "id": "a7d0ca11-c3d5-4b47-9792-dc9064220afb",
   "metadata": {
    "ExecuteTime": {
     "end_time": "2024-03-05T12:14:34.392387Z",
     "start_time": "2024-03-05T12:14:34.315388Z"
    }
   },
   "outputs": [
    {
     "data": {
      "text/html": [
       "<div>\n",
       "<style scoped>\n",
       "    .dataframe tbody tr th:only-of-type {\n",
       "        vertical-align: middle;\n",
       "    }\n",
       "\n",
       "    .dataframe tbody tr th {\n",
       "        vertical-align: top;\n",
       "    }\n",
       "\n",
       "    .dataframe thead th {\n",
       "        text-align: right;\n",
       "    }\n",
       "</style>\n",
       "<table border=\"1\" class=\"dataframe\">\n",
       "  <thead>\n",
       "    <tr style=\"text-align: right;\">\n",
       "      <th></th>\n",
       "      <th>author_name</th>\n",
       "      <th>review_text</th>\n",
       "      <th>review_rating</th>\n",
       "      <th>review_likes</th>\n",
       "      <th>author_app_version</th>\n",
       "      <th>review_timestamp</th>\n",
       "    </tr>\n",
       "  </thead>\n",
       "  <tbody>\n",
       "    <tr>\n",
       "      <th>1434598</th>\n",
       "      <td>A Google user</td>\n",
       "      <td>I'm realy enjoying using this app. I literally can find any song I want. It's just AMAZING! I stay up-to-date about latest releases, I can keep track of viral songs in different countries and most importantly I can access to the BEST PLAYLISTS EVER ma...</td>\n",
       "      <td>5</td>\n",
       "      <td>9732</td>\n",
       "      <td>8.5.5.853</td>\n",
       "      <td>2019-05-13 15:15:13</td>\n",
       "    </tr>\n",
       "    <tr>\n",
       "      <th>3017967</th>\n",
       "      <td>Ur*********ta</td>\n",
       "      <td>Spotify is a great app to listen to music and podcasts. You can find almost any song here. Spotify regular is not as good though. I remember how many ads there were. Spotify premium is way better. It gives great suggestions and helps discover new song...</td>\n",
       "      <td>5</td>\n",
       "      <td>6244</td>\n",
       "      <td>8.8.22.510</td>\n",
       "      <td>2023-04-02 16:16:10</td>\n",
       "    </tr>\n",
       "    <tr>\n",
       "      <th>1398267</th>\n",
       "      <td>A Google user</td>\n",
       "      <td>i have over 170 songs on only one of my playlists! and you can make many playlists, and find any songs you want! if apps could tell you how many hours you have spent on an app, i would probably have about 100+. Premium is the best to have while using ...</td>\n",
       "      <td>5</td>\n",
       "      <td>6235</td>\n",
       "      <td>8.5.1.734</td>\n",
       "      <td>2019-04-13 14:38:04</td>\n",
       "    </tr>\n",
       "    <tr>\n",
       "      <th>2917207</th>\n",
       "      <td>Na*******hi</td>\n",
       "      <td>The best music streaming app ever!!! I'm using it since its launch and it's just gone better and better. The best part is the Wrapped mode we get at the end of each year wrapping all the songs and telling us about the top 5s of each category. Just one...</td>\n",
       "      <td>5</td>\n",
       "      <td>4274</td>\n",
       "      <td>8.7.90.544</td>\n",
       "      <td>2022-12-07 18:00:17</td>\n",
       "    </tr>\n",
       "    <tr>\n",
       "      <th>2714912</th>\n",
       "      <td>Ar*******sh</td>\n",
       "      <td>I have used almost every music provider except apple's music. So, I can say that the differences in audio quality are barely noticeable but the usability differs. For example, here in Spotify, you can stream music from one place to different devices, ...</td>\n",
       "      <td>5</td>\n",
       "      <td>4119</td>\n",
       "      <td>8.7.30.1221</td>\n",
       "      <td>2022-05-15 04:52:02</td>\n",
       "    </tr>\n",
       "    <tr>\n",
       "      <th>...</th>\n",
       "      <td>...</td>\n",
       "      <td>...</td>\n",
       "      <td>...</td>\n",
       "      <td>...</td>\n",
       "      <td>...</td>\n",
       "      <td>...</td>\n",
       "    </tr>\n",
       "    <tr>\n",
       "      <th>123218</th>\n",
       "      <td>A Google user</td>\n",
       "      <td>Highly frustrating... Thought I was helping myself, but since i decided to update, I even uninstalled and re installed the app, and it still won't play anything</td>\n",
       "      <td>1</td>\n",
       "      <td>6</td>\n",
       "      <td>1.9.0.1273</td>\n",
       "      <td>2014-12-19 03:12:05</td>\n",
       "    </tr>\n",
       "    <tr>\n",
       "      <th>113011</th>\n",
       "      <td>A Google user</td>\n",
       "      <td>Washed down app compared to the PC version. It only allows a certain amount of skips and that's it..it only let's you play on shuffle play...oh and plus the loads of ads makes it not worthwhile to finish the rest of the playlist. Not worth it.</td>\n",
       "      <td>1</td>\n",
       "      <td>6</td>\n",
       "      <td>1.8.0.993</td>\n",
       "      <td>2014-12-01 23:39:14</td>\n",
       "    </tr>\n",
       "    <tr>\n",
       "      <th>98487</th>\n",
       "      <td>A Google user</td>\n",
       "      <td>My phone won't open it and I constantly receive notifications that it has stopped working.</td>\n",
       "      <td>1</td>\n",
       "      <td>6</td>\n",
       "      <td>1.7.0.830</td>\n",
       "      <td>2014-11-07 21:14:35</td>\n",
       "    </tr>\n",
       "    <tr>\n",
       "      <th>63328</th>\n",
       "      <td>A Google user</td>\n",
       "      <td>I just downloaded your app a couple of hours ago and started to browse. When I chose some songs off the play list,from an assortment of songs, there were a couple, after they started playing, that I didn't want. There was no way to get rid of them, an...</td>\n",
       "      <td>1</td>\n",
       "      <td>6</td>\n",
       "      <td>1.4.0.631</td>\n",
       "      <td>2014-09-07 20:10:03</td>\n",
       "    </tr>\n",
       "    <tr>\n",
       "      <th>11499</th>\n",
       "      <td>A Google user</td>\n",
       "      <td>This app dont it freezes all the time and it wont finish a full song this is thumbs down all the way</td>\n",
       "      <td>1</td>\n",
       "      <td>6</td>\n",
       "      <td>1.1.2.453</td>\n",
       "      <td>2014-07-12 03:11:48</td>\n",
       "    </tr>\n",
       "  </tbody>\n",
       "</table>\n",
       "<p>45813 rows × 6 columns</p>\n",
       "</div>"
      ],
      "text/plain": [
       "           author_name  \\\n",
       "1434598  A Google user   \n",
       "3017967  Ur*********ta   \n",
       "1398267  A Google user   \n",
       "2917207    Na*******hi   \n",
       "2714912    Ar*******sh   \n",
       "...                ...   \n",
       "123218   A Google user   \n",
       "113011   A Google user   \n",
       "98487    A Google user   \n",
       "63328    A Google user   \n",
       "11499    A Google user   \n",
       "\n",
       "                                                                                                                                                                                                                                                            review_text  \\\n",
       "1434598  I'm realy enjoying using this app. I literally can find any song I want. It's just AMAZING! I stay up-to-date about latest releases, I can keep track of viral songs in different countries and most importantly I can access to the BEST PLAYLISTS EVER ma...   \n",
       "3017967  Spotify is a great app to listen to music and podcasts. You can find almost any song here. Spotify regular is not as good though. I remember how many ads there were. Spotify premium is way better. It gives great suggestions and helps discover new song...   \n",
       "1398267  i have over 170 songs on only one of my playlists! and you can make many playlists, and find any songs you want! if apps could tell you how many hours you have spent on an app, i would probably have about 100+. Premium is the best to have while using ...   \n",
       "2917207  The best music streaming app ever!!! I'm using it since its launch and it's just gone better and better. The best part is the Wrapped mode we get at the end of each year wrapping all the songs and telling us about the top 5s of each category. Just one...   \n",
       "2714912  I have used almost every music provider except apple's music. So, I can say that the differences in audio quality are barely noticeable but the usability differs. For example, here in Spotify, you can stream music from one place to different devices, ...   \n",
       "...                                                                                                                                                                                                                                                                 ...   \n",
       "123218                                                                                                 Highly frustrating... Thought I was helping myself, but since i decided to update, I even uninstalled and re installed the app, and it still won't play anything   \n",
       "113011              Washed down app compared to the PC version. It only allows a certain amount of skips and that's it..it only let's you play on shuffle play...oh and plus the loads of ads makes it not worthwhile to finish the rest of the playlist. Not worth it.   \n",
       "98487                                                                                                                                                                        My phone won't open it and I constantly receive notifications that it has stopped working.   \n",
       "63328    I just downloaded your app a couple of hours ago and started to browse. When I chose some songs off the play list,from an assortment of songs, there were a couple, after they started playing, that I didn't want. There was no way to get rid of them, an...   \n",
       "11499                                                                                                                                                              This app dont it freezes all the time and it wont finish a full song this is thumbs down all the way   \n",
       "\n",
       "         review_rating  review_likes author_app_version     review_timestamp  \n",
       "1434598              5          9732          8.5.5.853  2019-05-13 15:15:13  \n",
       "3017967              5          6244         8.8.22.510  2023-04-02 16:16:10  \n",
       "1398267              5          6235          8.5.1.734  2019-04-13 14:38:04  \n",
       "2917207              5          4274         8.7.90.544  2022-12-07 18:00:17  \n",
       "2714912              5          4119        8.7.30.1221  2022-05-15 04:52:02  \n",
       "...                ...           ...                ...                  ...  \n",
       "123218               1             6         1.9.0.1273  2014-12-19 03:12:05  \n",
       "113011               1             6          1.8.0.993  2014-12-01 23:39:14  \n",
       "98487                1             6          1.7.0.830  2014-11-07 21:14:35  \n",
       "63328                1             6          1.4.0.631  2014-09-07 20:10:03  \n",
       "11499                1             6          1.1.2.453  2014-07-12 03:11:48  \n",
       "\n",
       "[45813 rows x 6 columns]"
      ]
     },
     "execution_count": 11,
     "metadata": {},
     "output_type": "execute_result"
    }
   ],
   "source": [
    "# Sorted by rating first, then number of like then timestamp\n",
    "# Related to strategy of doc chunk to vectorstore\n",
    "df = df.sort_values(by=['review_rating', 'review_likes', 'review_timestamp'], ascending=[False, False, False])\n",
    "df"
   ]
  },
  {
   "cell_type": "code",
   "execution_count": 12,
   "id": "f2fb547aea395865",
   "metadata": {
    "ExecuteTime": {
     "end_time": "2024-03-05T12:15:11.781388Z",
     "start_time": "2024-03-05T12:14:34.393387Z"
    },
    "collapsed": false,
    "jupyter": {
     "outputs_hidden": false
    }
   },
   "outputs": [
    {
     "name": "stdout",
     "output_type": "stream",
     "text": [
      "3341\n"
     ]
    },
    {
     "data": {
      "text/html": [
       "<div>\n",
       "<style scoped>\n",
       "    .dataframe tbody tr th:only-of-type {\n",
       "        vertical-align: middle;\n",
       "    }\n",
       "\n",
       "    .dataframe tbody tr th {\n",
       "        vertical-align: top;\n",
       "    }\n",
       "\n",
       "    .dataframe thead th {\n",
       "        text-align: right;\n",
       "    }\n",
       "</style>\n",
       "<table border=\"1\" class=\"dataframe\">\n",
       "  <thead>\n",
       "    <tr style=\"text-align: right;\">\n",
       "      <th></th>\n",
       "      <th>author_name</th>\n",
       "      <th>review_text</th>\n",
       "      <th>review_rating</th>\n",
       "      <th>review_likes</th>\n",
       "      <th>author_app_version</th>\n",
       "      <th>review_timestamp</th>\n",
       "    </tr>\n",
       "  </thead>\n",
       "  <tbody>\n",
       "    <tr>\n",
       "      <th>2845742</th>\n",
       "      <td>Av***************gh</td>\n",
       "      <td>This is a pretty good app for music 🎶🎵and podcasts. I also want to add that the people who are saying that the ads in the app are annoying must be misunderstanding something, as Spotify has a very limited amount of ads. The app is giving much more whi...</td>\n",
       "      <td>5</td>\n",
       "      <td>3382</td>\n",
       "      <td>8.7.62.398</td>\n",
       "      <td>2022-09-22 20:47:48</td>\n",
       "    </tr>\n",
       "    <tr>\n",
       "      <th>3174216</th>\n",
       "      <td>Su************sh</td>\n",
       "      <td>I've been using Spotify for years now, and I can honestly say that it's the best music streaming app out there. It has a massive library of music, from all genres and eras. The playlists are well-curated, and the algorithm for music discovery is excel...</td>\n",
       "      <td>5</td>\n",
       "      <td>2861</td>\n",
       "      <td>8.8.54.481</td>\n",
       "      <td>2023-07-25 04:35:14</td>\n",
       "    </tr>\n",
       "    <tr>\n",
       "      <th>3026295</th>\n",
       "      <td>Ab************an</td>\n",
       "      <td>Spotify is the best music streaming app I've ever used! With a massive library of songs, podcasts, and playlists, there's something for everyone. The UI is sleek, easy to navigate, and the personalized playlists help discover amazing new tracks. Shari...</td>\n",
       "      <td>5</td>\n",
       "      <td>1869</td>\n",
       "      <td>8.8.24.307</td>\n",
       "      <td>2023-04-13 02:45:19</td>\n",
       "    </tr>\n",
       "    <tr>\n",
       "      <th>1321805</th>\n",
       "      <td>A Google user</td>\n",
       "      <td>I love Spotify. I've had I ❤ Radio forever, but other than letting you pick your favorite artists (and even then you get music like it when you save their stations and play them). To do anything else you have to pay. Spotify lets you choose from a lot...</td>\n",
       "      <td>5</td>\n",
       "      <td>1625</td>\n",
       "      <td>8.4.94.817</td>\n",
       "      <td>2019-02-26 18:42:16</td>\n",
       "    </tr>\n",
       "    <tr>\n",
       "      <th>2836670</th>\n",
       "      <td>Sh*****aj</td>\n",
       "      <td>Spotify is good, there is whole song available here. None of the songs are missing in this app and all the facilities are good but i felt one thing was missing that is we cannot manage the songs in playlist like we cannot take songs up or down as we w...</td>\n",
       "      <td>5</td>\n",
       "      <td>1553</td>\n",
       "      <td>8.7.62.398</td>\n",
       "      <td>2022-09-12 14:52:12</td>\n",
       "    </tr>\n",
       "  </tbody>\n",
       "</table>\n",
       "</div>"
      ],
      "text/plain": [
       "                 author_name  \\\n",
       "2845742  Av***************gh   \n",
       "3174216     Su************sh   \n",
       "3026295     Ab************an   \n",
       "1321805        A Google user   \n",
       "2836670            Sh*****aj   \n",
       "\n",
       "                                                                                                                                                                                                                                                            review_text  \\\n",
       "2845742  This is a pretty good app for music 🎶🎵and podcasts. I also want to add that the people who are saying that the ads in the app are annoying must be misunderstanding something, as Spotify has a very limited amount of ads. The app is giving much more whi...   \n",
       "3174216  I've been using Spotify for years now, and I can honestly say that it's the best music streaming app out there. It has a massive library of music, from all genres and eras. The playlists are well-curated, and the algorithm for music discovery is excel...   \n",
       "3026295  Spotify is the best music streaming app I've ever used! With a massive library of songs, podcasts, and playlists, there's something for everyone. The UI is sleek, easy to navigate, and the personalized playlists help discover amazing new tracks. Shari...   \n",
       "1321805  I love Spotify. I've had I ❤ Radio forever, but other than letting you pick your favorite artists (and even then you get music like it when you save their stations and play them). To do anything else you have to pay. Spotify lets you choose from a lot...   \n",
       "2836670  Spotify is good, there is whole song available here. None of the songs are missing in this app and all the facilities are good but i felt one thing was missing that is we cannot manage the songs in playlist like we cannot take songs up or down as we w...   \n",
       "\n",
       "         review_rating  review_likes author_app_version     review_timestamp  \n",
       "2845742              5          3382         8.7.62.398  2022-09-22 20:47:48  \n",
       "3174216              5          2861         8.8.54.481  2023-07-25 04:35:14  \n",
       "3026295              5          1869         8.8.24.307  2023-04-13 02:45:19  \n",
       "1321805              5          1625         8.4.94.817  2019-02-26 18:42:16  \n",
       "2836670              5          1553         8.7.62.398  2022-09-12 14:52:12  "
      ]
     },
     "execution_count": 12,
     "metadata": {},
     "output_type": "execute_result"
    }
   ],
   "source": [
    "import re\n",
    "def contains_foreign_emot_chars(text):\n",
    "    # Regular expression to match non-ASCII characters\n",
    "    foreign_char_pattern = r'[^\\x00-\\x7F]+'\n",
    "    emoticon_pattern = re.compile(u'['\n",
    "                              u'\\U0001F600-\\U0001F64F'  # emoticons\n",
    "                              u'\\U0001F300-\\U0001F5FF'  # symbols & pictographs\n",
    "                              u'\\U0001F680-\\U0001F6FF'  # transport & map symbols\n",
    "                              u'\\U0001F1E0-\\U0001F1FF'  # flags (iOS)\n",
    "                              ']+', flags=re.UNICODE)\n",
    "    \n",
    "    if pd.Series(text).str.contains(foreign_char_pattern).any() or pd.Series(text).str.contains(emoticon_pattern).any():\n",
    "        return True\n",
    "    else:\n",
    "        return False\n",
    "print(len(df[df['review_text'].apply(contains_foreign_emot_chars)]))\n",
    "idx = df[df['review_text'].apply(contains_foreign_emot_chars)].index.tolist()\n",
    "df[df['review_text'].apply(contains_foreign_emot_chars)].head()\n",
    "# 3341 out of 45813 data are contain foreign chars or emoticon\n",
    "# but we can't really remove the review that not using english because unicode for emoticon and foreign character is intersected."
   ]
  },
  {
   "cell_type": "code",
   "execution_count": 13,
   "id": "2e227d7967fbccf1",
   "metadata": {
    "ExecuteTime": {
     "end_time": "2024-03-05T12:15:12.544388Z",
     "start_time": "2024-03-05T12:15:11.782389Z"
    },
    "collapsed": false,
    "jupyter": {
     "outputs_hidden": false
    }
   },
   "outputs": [
    {
     "data": {
      "text/html": [
       "<div>\n",
       "<style scoped>\n",
       "    .dataframe tbody tr th:only-of-type {\n",
       "        vertical-align: middle;\n",
       "    }\n",
       "\n",
       "    .dataframe tbody tr th {\n",
       "        vertical-align: top;\n",
       "    }\n",
       "\n",
       "    .dataframe thead th {\n",
       "        text-align: right;\n",
       "    }\n",
       "</style>\n",
       "<table border=\"1\" class=\"dataframe\">\n",
       "  <thead>\n",
       "    <tr style=\"text-align: right;\">\n",
       "      <th></th>\n",
       "      <th>review_text</th>\n",
       "    </tr>\n",
       "  </thead>\n",
       "  <tbody>\n",
       "    <tr>\n",
       "      <th>2845742</th>\n",
       "      <td>This is a pretty good app for music and podcasts. I also want to add that the people who are saying that the ads in the app are annoying must be misunderstanding something, as Spotify has a very limited amount of ads. The app is giving much more while...</td>\n",
       "    </tr>\n",
       "    <tr>\n",
       "      <th>3174216</th>\n",
       "      <td>I've been using Spotify for years now, and I can honestly say that it's the best music streaming app out there. It has a massive library of music, from all genres and eras. The playlists are well-curated, and the algorithm for music discovery is excel...</td>\n",
       "    </tr>\n",
       "    <tr>\n",
       "      <th>3026295</th>\n",
       "      <td>Spotify is the best music streaming app I've ever used! With a massive library of songs, podcasts, and playlists, there's something for everyone. The UI is sleek, easy to navigate, and the personalized playlists help discover amazing new tracks. Shari...</td>\n",
       "    </tr>\n",
       "    <tr>\n",
       "      <th>1321805</th>\n",
       "      <td>I love Spotify. I've had I  Radio forever, but other than letting you pick your favorite artists (and even then you get music like it when you save their stations and play them). To do anything else you have to pay. Spotify lets you choose from a lot ...</td>\n",
       "    </tr>\n",
       "    <tr>\n",
       "      <th>2836670</th>\n",
       "      <td>Spotify is good, there is whole song available here. None of the songs are missing in this app and all the facilities are good but i felt one thing was missing that is we cannot manage the songs in playlist like we cannot take songs up or down as we w...</td>\n",
       "    </tr>\n",
       "  </tbody>\n",
       "</table>\n",
       "</div>"
      ],
      "text/plain": [
       "                                                                                                                                                                                                                                                            review_text\n",
       "2845742  This is a pretty good app for music and podcasts. I also want to add that the people who are saying that the ads in the app are annoying must be misunderstanding something, as Spotify has a very limited amount of ads. The app is giving much more while...\n",
       "3174216  I've been using Spotify for years now, and I can honestly say that it's the best music streaming app out there. It has a massive library of music, from all genres and eras. The playlists are well-curated, and the algorithm for music discovery is excel...\n",
       "3026295  Spotify is the best music streaming app I've ever used! With a massive library of songs, podcasts, and playlists, there's something for everyone. The UI is sleek, easy to navigate, and the personalized playlists help discover amazing new tracks. Shari...\n",
       "1321805  I love Spotify. I've had I  Radio forever, but other than letting you pick your favorite artists (and even then you get music like it when you save their stations and play them). To do anything else you have to pay. Spotify lets you choose from a lot ...\n",
       "2836670  Spotify is good, there is whole song available here. None of the songs are missing in this app and all the facilities are good but i felt one thing was missing that is we cannot manage the songs in playlist like we cannot take songs up or down as we w..."
      ]
     },
     "execution_count": 13,
     "metadata": {},
     "output_type": "execute_result"
    }
   ],
   "source": [
    "# Function to remove emoticons and foreign characters\n",
    "def remove_emoticons_and_foreign_chars(text):\n",
    "    # Regular expression to match common emoticon patterns\n",
    "    emoticon_pattern = re.compile(u'['\n",
    "                                  u'\\U0001F600-\\U0001F64F'  # emoticons\n",
    "                                  u'\\U0001F300-\\U0001F5FF'  # symbols & pictographs\n",
    "                                  u'\\U0001F680-\\U0001F6FF'  # transport & map symbols\n",
    "                                  u'\\U0001F1E0-\\U0001F1FF'  # flags (iOS)\n",
    "                                  ']+', \n",
    "                                  flags=re.UNICODE)\n",
    "    # Regular expression to match foreign language characters\n",
    "    foreign_char_pattern = re.compile(r'[^\\x00-\\x7F]+')\n",
    "\n",
    "    # Remove emoticons\n",
    "    text = emoticon_pattern.sub('', text)\n",
    "    # Remove foreign characters\n",
    "    clean_text = foreign_char_pattern.sub('', text)\n",
    "    return clean_text\n",
    "\n",
    "# Apply the function to remove emoticons and foreign characters from the 'text' column\n",
    "df['review_text'] = df['review_text'].apply(remove_emoticons_and_foreign_chars)\n",
    "df[['review_text']].loc[idx].head()"
   ]
  },
  {
   "cell_type": "code",
   "execution_count": 14,
   "id": "eb24b4af8366ee87",
   "metadata": {
    "ExecuteTime": {
     "end_time": "2024-03-05T12:15:18.177700Z",
     "start_time": "2024-03-05T12:15:17.608702Z"
    },
    "collapsed": false,
    "jupyter": {
     "outputs_hidden": false
    }
   },
   "outputs": [],
   "source": [
    "df['review_text'] = df['review_text'].replace(r'\\s+', ' ', regex=True)\n",
    "df['review_text'] = df['review_text'].str.strip()"
   ]
  },
  {
   "cell_type": "code",
   "execution_count": null,
   "id": "89b48d75-5e92-406e-a044-eb71a00309c8",
   "metadata": {},
   "outputs": [],
   "source": [
    "# Convert dataframe to text data to get the review text\n",
    "def dataframe_to_text(df, column_name, output_file):\n",
    "    try:\n",
    "        with open(output_file, 'w', encoding='utf-8') as file:\n",
    "            file.write('THIS IS A GOOGLE STORE REVIEWS FOR SPOTIFY APPLICATION:' + '\\n')\n",
    "            for index, row in df.iterrows():\n",
    "                review_text = row[column_name]\n",
    "                file.write(review_text + '\\n')\n",
    "        print(f\"Data successfully saved to {output_file}\")\n",
    "    except Exception as e:\n",
    "        print(f\"Error occurred: {str(e)}\")\n",
    "dataframe_to_text(df, 'review_text', 'spotify_reviews.txt')"
   ]
  },
  {
   "cell_type": "markdown",
   "id": "d4be108f-94b3-4501-803a-6db9c9eec0f7",
   "metadata": {
    "jp-MarkdownHeadingCollapsed": true
   },
   "source": [
    "# Model, Parameter Setting"
   ]
  },
  {
   "cell_type": "code",
   "execution_count": 17,
   "id": "785a7b53",
   "metadata": {},
   "outputs": [
    {
     "data": {
      "text/plain": [
       "True"
      ]
     },
     "execution_count": 17,
     "metadata": {},
     "output_type": "execute_result"
    }
   ],
   "source": [
    "import torch\n",
    "torch.cuda.is_available()\n",
    "# check cuda is available"
   ]
  },
  {
   "cell_type": "code",
   "execution_count": 18,
   "id": "9b535afc",
   "metadata": {},
   "outputs": [
    {
     "name": "stdout",
     "output_type": "stream",
     "text": [
      "\n",
      "===================================BUG REPORT===================================\n",
      "Welcome to bitsandbytes. For bug reports, please run\n",
      "\n",
      "python -m bitsandbytes\n",
      "\n",
      " and submit this information together with your error trace to: https://github.com/TimDettmers/bitsandbytes/issues\n",
      "================================================================================\n",
      "bin C:\\Users\\Bens\\anaconda3\\envs\\lc\\lib\\site-packages\\bitsandbytes\\libbitsandbytes_cuda116.dll\n",
      "function 'cadam32bit_grad_fp32' not found\n",
      "CUDA SETUP: Loading binary C:\\Users\\Bens\\anaconda3\\envs\\lc\\lib\\site-packages\\bitsandbytes\\libbitsandbytes_cuda116.dll...\n"
     ]
    },
    {
     "name": "stderr",
     "output_type": "stream",
     "text": [
      "C:\\Users\\Bens\\anaconda3\\envs\\lc\\lib\\site-packages\\bitsandbytes\\cextension.py:34: UserWarning: The installed version of bitsandbytes was compiled without GPU support. 8-bit optimizers, 8-bit multiplication, and GPU quantization are unavailable.\n",
      "  warn(\"The installed version of bitsandbytes was compiled without GPU support. \"\n"
     ]
    },
    {
     "data": {
      "text/plain": [
       "1024"
      ]
     },
     "execution_count": 18,
     "metadata": {},
     "output_type": "execute_result"
    }
   ],
   "source": [
    "# EMBEDDING MODEL\n",
    "# Use bge model from huggingface.\n",
    "# Do connection from langchain huggingface\n",
    "\n",
    "from langchain_community.embeddings import HuggingFaceBgeEmbeddings\n",
    "from llama_index.embeddings.langchain import LangchainEmbedding\n",
    "model_name = \"BAAI/bge-large-en-v1.5\"\n",
    "model_kwargs = {'device': 'cuda'}\n",
    "encode_kwargs = {'normalize_embeddings': True} # set True to compute cosine similarity\n",
    "\n",
    "embed_model_hf  = HuggingFaceBgeEmbeddings(\n",
    "    model_name=model_name, \n",
    "    model_kwargs=model_kwargs, \n",
    "    encode_kwargs=encode_kwargs,\n",
    "    query_instruction=\"Represent this sentence for searching relevant passages: \"\n",
    ")\n",
    "\n",
    "embed_model = LangchainEmbedding(embed_model_hf, embed_batch_size=100)\n",
    "len(embed_model.get_text_embedding(\"It is raining cats and dogs here!\"))"
   ]
  },
  {
   "cell_type": "code",
   "execution_count": 19,
   "id": "c5233514",
   "metadata": {},
   "outputs": [
    {
     "name": "stderr",
     "output_type": "stream",
     "text": [
      "llama_model_loader: loaded meta data with 24 key-value pairs and 291 tensors from D:\\mistral-7b-instruct-v0.2.Q4_K_M.gguf (version GGUF V3 (latest))\n",
      "llama_model_loader: Dumping metadata keys/values. Note: KV overrides do not apply in this output.\n",
      "llama_model_loader: - kv   0:                       general.architecture str              = llama\n",
      "llama_model_loader: - kv   1:                               general.name str              = mistralai_mistral-7b-instruct-v0.2\n",
      "llama_model_loader: - kv   2:                       llama.context_length u32              = 32768\n",
      "llama_model_loader: - kv   3:                     llama.embedding_length u32              = 4096\n",
      "llama_model_loader: - kv   4:                          llama.block_count u32              = 32\n",
      "llama_model_loader: - kv   5:                  llama.feed_forward_length u32              = 14336\n",
      "llama_model_loader: - kv   6:                 llama.rope.dimension_count u32              = 128\n",
      "llama_model_loader: - kv   7:                 llama.attention.head_count u32              = 32\n",
      "llama_model_loader: - kv   8:              llama.attention.head_count_kv u32              = 8\n",
      "llama_model_loader: - kv   9:     llama.attention.layer_norm_rms_epsilon f32              = 0.000010\n",
      "llama_model_loader: - kv  10:                       llama.rope.freq_base f32              = 1000000.000000\n",
      "llama_model_loader: - kv  11:                          general.file_type u32              = 15\n",
      "llama_model_loader: - kv  12:                       tokenizer.ggml.model str              = llama\n",
      "llama_model_loader: - kv  13:                      tokenizer.ggml.tokens arr[str,32000]   = [\"<unk>\", \"<s>\", \"</s>\", \"<0x00>\", \"<...\n",
      "llama_model_loader: - kv  14:                      tokenizer.ggml.scores arr[f32,32000]   = [0.000000, 0.000000, 0.000000, 0.0000...\n",
      "llama_model_loader: - kv  15:                  tokenizer.ggml.token_type arr[i32,32000]   = [2, 3, 3, 6, 6, 6, 6, 6, 6, 6, 6, 6, ...\n",
      "llama_model_loader: - kv  16:                tokenizer.ggml.bos_token_id u32              = 1\n",
      "llama_model_loader: - kv  17:                tokenizer.ggml.eos_token_id u32              = 2\n",
      "llama_model_loader: - kv  18:            tokenizer.ggml.unknown_token_id u32              = 0\n",
      "llama_model_loader: - kv  19:            tokenizer.ggml.padding_token_id u32              = 0\n",
      "llama_model_loader: - kv  20:               tokenizer.ggml.add_bos_token bool             = true\n",
      "llama_model_loader: - kv  21:               tokenizer.ggml.add_eos_token bool             = false\n",
      "llama_model_loader: - kv  22:                    tokenizer.chat_template str              = {{ bos_token }}{% for message in mess...\n",
      "llama_model_loader: - kv  23:               general.quantization_version u32              = 2\n",
      "llama_model_loader: - type  f32:   65 tensors\n",
      "llama_model_loader: - type q4_K:  193 tensors\n",
      "llama_model_loader: - type q6_K:   33 tensors\n",
      "llm_load_vocab: special tokens definition check successful ( 259/32000 ).\n",
      "llm_load_print_meta: format           = GGUF V3 (latest)\n",
      "llm_load_print_meta: arch             = llama\n",
      "llm_load_print_meta: vocab type       = SPM\n",
      "llm_load_print_meta: n_vocab          = 32000\n",
      "llm_load_print_meta: n_merges         = 0\n",
      "llm_load_print_meta: n_ctx_train      = 32768\n",
      "llm_load_print_meta: n_embd           = 4096\n",
      "llm_load_print_meta: n_head           = 32\n",
      "llm_load_print_meta: n_head_kv        = 8\n",
      "llm_load_print_meta: n_layer          = 32\n",
      "llm_load_print_meta: n_rot            = 128\n",
      "llm_load_print_meta: n_embd_head_k    = 128\n",
      "llm_load_print_meta: n_embd_head_v    = 128\n",
      "llm_load_print_meta: n_gqa            = 4\n",
      "llm_load_print_meta: n_embd_k_gqa     = 1024\n",
      "llm_load_print_meta: n_embd_v_gqa     = 1024\n",
      "llm_load_print_meta: f_norm_eps       = 0.0e+00\n",
      "llm_load_print_meta: f_norm_rms_eps   = 1.0e-05\n",
      "llm_load_print_meta: f_clamp_kqv      = 0.0e+00\n",
      "llm_load_print_meta: f_max_alibi_bias = 0.0e+00\n",
      "llm_load_print_meta: n_ff             = 14336\n",
      "llm_load_print_meta: n_expert         = 0\n",
      "llm_load_print_meta: n_expert_used    = 0\n",
      "llm_load_print_meta: pooling type     = 0\n",
      "llm_load_print_meta: rope type        = 0\n",
      "llm_load_print_meta: rope scaling     = linear\n",
      "llm_load_print_meta: freq_base_train  = 1000000.0\n",
      "llm_load_print_meta: freq_scale_train = 1\n",
      "llm_load_print_meta: n_yarn_orig_ctx  = 32768\n",
      "llm_load_print_meta: rope_finetuned   = unknown\n",
      "llm_load_print_meta: model type       = 7B\n",
      "llm_load_print_meta: model ftype      = Q4_K - Medium\n",
      "llm_load_print_meta: model params     = 7.24 B\n",
      "llm_load_print_meta: model size       = 4.07 GiB (4.83 BPW) \n",
      "llm_load_print_meta: general.name     = mistralai_mistral-7b-instruct-v0.2\n",
      "llm_load_print_meta: BOS token        = 1 '<s>'\n",
      "llm_load_print_meta: EOS token        = 2 '</s>'\n",
      "llm_load_print_meta: UNK token        = 0 '<unk>'\n",
      "llm_load_print_meta: PAD token        = 0 '<unk>'\n",
      "llm_load_print_meta: LF token         = 13 '<0x0A>'\n",
      "llm_load_tensors: ggml ctx size =    0.22 MiB\n",
      "llm_load_tensors: offloading 32 repeating layers to GPU\n",
      "llm_load_tensors: offloading non-repeating layers to GPU\n",
      "llm_load_tensors: offloaded 33/33 layers to GPU\n",
      "llm_load_tensors:        CPU buffer size =    70.31 MiB\n",
      "llm_load_tensors:      CUDA0 buffer size =  4095.05 MiB\n",
      ".................................................................................................\n",
      "llama_new_context_with_model: n_ctx      = 3900\n",
      "llama_new_context_with_model: freq_base  = 1000000.0\n",
      "llama_new_context_with_model: freq_scale = 1\n",
      "llama_kv_cache_init:      CUDA0 KV buffer size =   487.50 MiB\n",
      "llama_new_context_with_model: KV self size  =  487.50 MiB, K (f16):  243.75 MiB, V (f16):  243.75 MiB\n",
      "llama_new_context_with_model:  CUDA_Host input buffer size   =    16.65 MiB\n",
      "llama_new_context_with_model:      CUDA0 compute buffer size =   283.37 MiB\n",
      "llama_new_context_with_model:  CUDA_Host compute buffer size =     8.00 MiB\n",
      "llama_new_context_with_model: graph splits (measure): 2\n",
      "AVX = 1 | AVX_VNNI = 0 | AVX2 = 1 | AVX512 = 0 | AVX512_VBMI = 0 | AVX512_VNNI = 0 | FMA = 1 | NEON = 0 | ARM_FMA = 0 | F16C = 1 | FP16_VA = 0 | WASM_SIMD = 0 | BLAS = 1 | SSE3 = 1 | SSSE3 = 0 | VSX = 0 | MATMUL_INT8 = 0 | \n",
      "Model metadata: {'general.name': 'mistralai_mistral-7b-instruct-v0.2', 'general.architecture': 'llama', 'llama.context_length': '32768', 'llama.rope.dimension_count': '128', 'llama.embedding_length': '4096', 'llama.block_count': '32', 'llama.feed_forward_length': '14336', 'llama.attention.head_count': '32', 'tokenizer.ggml.eos_token_id': '2', 'general.file_type': '15', 'llama.attention.head_count_kv': '8', 'llama.attention.layer_norm_rms_epsilon': '0.000010', 'llama.rope.freq_base': '1000000.000000', 'tokenizer.ggml.model': 'llama', 'general.quantization_version': '2', 'tokenizer.ggml.bos_token_id': '1', 'tokenizer.ggml.unknown_token_id': '0', 'tokenizer.ggml.padding_token_id': '0', 'tokenizer.ggml.add_bos_token': 'true', 'tokenizer.ggml.add_eos_token': 'false', 'tokenizer.chat_template': \"{{ bos_token }}{% for message in messages %}{% if (message['role'] == 'user') != (loop.index0 % 2 == 0) %}{{ raise_exception('Conversation roles must alternate user/assistant/user/assistant/...') }}{% endif %}{% if message['role'] == 'user' %}{{ '[INST] ' + message['content'] + ' [/INST]' }}{% elif message['role'] == 'assistant' %}{{ message['content'] + eos_token}}{% else %}{{ raise_exception('Only user and assistant roles are supported!') }}{% endif %}{% endfor %}\"}\n",
      "Guessed chat format: mistral-instruct\n"
     ]
    },
    {
     "name": "stdout",
     "output_type": "stream",
     "text": [
      " In the realm where metal beasts roar and fly,\n",
      "Through the veil of midnight, under the moon's soft light,\n",
      "Fast cars dance with the stars in the endless night,\n",
      "Their engines purring like lions, their tires alight.\n",
      "\n",
      "A symphony of power in every rev,\n",
      "A heartbeat of steel that never slows or quits,\n",
      "Their frames sculpted for speed, their lines sleek and fit,\n",
      "In the race of life, they're the unwavering bit.\n",
      "\n",
      "Through twists and turns, they carve the winding road,\n",
      "Leaving echoes of their thunderous roar,\n",
      "Their drivers, one with the machine, their will unbroken,\n",
      "In the dance of speed, they're the unyielding token.\n",
      "\n",
      "So here's to the fast cars, the kings of the night,\n",
      "Their engines roaring, their spirits alight,\n",
      "In the race of life, they're the unyielding force,\n",
      "A testament to the human thirst for the course."
     ]
    },
    {
     "name": "stderr",
     "output_type": "stream",
     "text": [
      "\n",
      "llama_print_timings:        load time =     152.24 ms\n",
      "llama_print_timings:      sample time =      24.16 ms /   236 runs   (    0.10 ms per token,  9767.00 tokens per second)\n",
      "llama_print_timings: prompt eval time =     152.15 ms /    73 tokens (    2.08 ms per token,   479.78 tokens per second)\n",
      "llama_print_timings:        eval time =    4010.15 ms /   235 runs   (   17.06 ms per token,    58.60 tokens per second)\n",
      "llama_print_timings:       total time =    4853.26 ms /   308 tokens\n"
     ]
    }
   ],
   "source": [
    "# LLM MODEL\n",
    "# USE MISTRAL 7B QUANTIZED 4BIT WITH LLAMA.CPP\n",
    "from llama_index.core import SimpleDirectoryReader, VectorStoreIndex\n",
    "from llama_index.llms.llama_cpp import LlamaCPP\n",
    "from llama_index.llms.llama_cpp.llama_utils import (\n",
    "    messages_to_prompt,\n",
    "    completion_to_prompt,\n",
    ")\n",
    "\n",
    "llm = LlamaCPP(\n",
    "    # You can pass in the URL to a GGML model to download it automatically\n",
    "    model_path=r\"D:\\mistral-7b-instruct-v0.2.Q4_K_M.gguf\",\n",
    "    # optionally, you can set the path to a pre-downloaded model instead of model_url\n",
    "    temperature=0.2,\n",
    "    max_new_tokens=512,\n",
    "    # llama2 has a context window of 4096 tokens, but we set it lower to allow for some wiggle room\n",
    "    context_window=3900,\n",
    "    # kwargs to pass to __call__()\n",
    "    generate_kwargs={},\n",
    "    # kwargs to pass to __init__()\n",
    "    # set to at least 1 to use GPU\n",
    "    model_kwargs={\"n_gpu_layers\": 35},\n",
    "    # transform inputs into Llama2 format\n",
    "    messages_to_prompt=messages_to_prompt,\n",
    "    completion_to_prompt=completion_to_prompt,\n",
    "    verbose=True,\n",
    ")\n",
    "response_iter = llm.stream_complete(\"Can you write me a poem about fast cars?\")\n",
    "for response in response_iter:\n",
    "    print(response.delta, end=\"\", flush=True)"
   ]
  },
  {
   "cell_type": "code",
   "execution_count": 20,
   "id": "8ee37f19",
   "metadata": {},
   "outputs": [
    {
     "name": "stderr",
     "output_type": "stream",
     "text": [
      "C:\\Users\\Bens\\AppData\\Local\\Temp\\ipykernel_12856\\3586380879.py:11: DeprecationWarning: Call to deprecated class method from_defaults. (ServiceContext is deprecated, please use `llama_index.settings.Settings` instead.) -- Deprecated since version 0.10.0.\n",
      "  service_context = ServiceContext.from_defaults(\n"
     ]
    }
   ],
   "source": [
    "# SET SERVICE CONTEXT IN LLAMA INDEX\n",
    "from llama_index.core import ServiceContext\n",
    "from llama_index.core.node_parser import SimpleNodeParser\n",
    "from llama_index.core.callbacks import LlamaDebugHandler, CallbackManager\n",
    "\n",
    "node_parser = SimpleNodeParser.from_defaults(chunk_size=1024, \n",
    "                                             chunk_overlap=20)\n",
    "\n",
    "llama_debug = LlamaDebugHandler(print_trace_on_end=True)\n",
    "callback_manager = CallbackManager(handlers=[llama_debug])\n",
    "\n",
    "service_context = ServiceContext.from_defaults(\n",
    "    llm=llm, \n",
    "    embed_model=embed_model,\n",
    "    node_parser=node_parser,\n",
    "    callback_manager=callback_manager                                               \n",
    "    )\n"
   ]
  },
  {
   "cell_type": "markdown",
   "id": "31f68636-4a00-4dff-a428-a5c073f8e07e",
   "metadata": {
    "jp-MarkdownHeadingCollapsed": true
   },
   "source": [
    "# Data Ingestion to Vector Store"
   ]
  },
  {
   "cell_type": "code",
   "execution_count": 22,
   "id": "f243e259",
   "metadata": {},
   "outputs": [
    {
     "data": {
      "application/vnd.jupyter.widget-view+json": {
       "model_id": "4d248dc6cc9c4a2a8ebed1d84bc1994d",
       "version_major": 2,
       "version_minor": 0
      },
      "text/plain": [
       "Parsing nodes:   0%|          | 0/1 [00:00<?, ?it/s]"
      ]
     },
     "metadata": {},
     "output_type": "display_data"
    },
    {
     "data": {
      "application/vnd.jupyter.widget-view+json": {
       "model_id": "9f2d3fbb171f4f49b9c183f53e7d5e7b",
       "version_major": 2,
       "version_minor": 0
      },
      "text/plain": [
       "Generating embeddings:   0%|          | 0/2048 [00:00<?, ?it/s]"
      ]
     },
     "metadata": {},
     "output_type": "display_data"
    },
    {
     "data": {
      "application/vnd.jupyter.widget-view+json": {
       "model_id": "cd402a4a56344f479cb1398875179612",
       "version_major": 2,
       "version_minor": 0
      },
      "text/plain": [
       "Generating embeddings:   0%|          | 0/1712 [00:00<?, ?it/s]"
      ]
     },
     "metadata": {},
     "output_type": "display_data"
    },
    {
     "name": "stdout",
     "output_type": "stream",
     "text": [
      "**********\n",
      "Trace: index_construction\n",
      "    |_embedding ->  18.979195 seconds\n",
      "    |_embedding ->  16.621614 seconds\n",
      "    |_embedding ->  20.065158 seconds\n",
      "    |_embedding ->  21.471064 seconds\n",
      "    |_embedding ->  20.432842 seconds\n",
      "    |_embedding ->  22.367947 seconds\n",
      "    |_embedding ->  21.415999 seconds\n",
      "    |_embedding ->  20.045473 seconds\n",
      "    |_embedding ->  21.400058 seconds\n",
      "    |_embedding ->  21.337998 seconds\n",
      "    |_embedding ->  20.207923 seconds\n",
      "    |_embedding ->  21.153506 seconds\n",
      "    |_embedding ->  21.344252 seconds\n",
      "    |_embedding ->  21.135 seconds\n",
      "    |_embedding ->  20.309001 seconds\n",
      "    |_embedding ->  21.288999 seconds\n",
      "    |_embedding ->  21.388431 seconds\n",
      "    |_embedding ->  19.954015 seconds\n",
      "    |_embedding ->  23.215002 seconds\n",
      "    |_embedding ->  21.199998 seconds\n",
      "    |_embedding ->  6.456999 seconds\n",
      "    |_embedding ->  21.834698 seconds\n",
      "    |_embedding ->  21.435167 seconds\n",
      "    |_embedding ->  20.435874 seconds\n",
      "    |_embedding ->  20.870999 seconds\n",
      "    |_embedding ->  21.222001 seconds\n",
      "    |_embedding ->  21.496586 seconds\n",
      "    |_embedding ->  19.992663 seconds\n",
      "    |_embedding ->  21.293879 seconds\n",
      "    |_embedding ->  21.462 seconds\n",
      "    |_embedding ->  19.917999 seconds\n",
      "    |_embedding ->  23.24436 seconds\n",
      "    |_embedding ->  21.316789 seconds\n",
      "    |_embedding ->  20.973 seconds\n",
      "    |_embedding ->  20.455999 seconds\n",
      "    |_embedding ->  21.282 seconds\n",
      "    |_embedding ->  21.452999 seconds\n",
      "    |_embedding ->  19.655539 seconds\n",
      "    |_embedding ->  0.613364 seconds\n",
      "**********\n",
      "BUILDING VECTOR STORE...\n"
     ]
    }
   ],
   "source": [
    "import os.path\n",
    "from llama_index.core import (\n",
    "    VectorStoreIndex,\n",
    "    SimpleDirectoryReader,\n",
    "    StorageContext,\n",
    "    load_index_from_storage,\n",
    ")\n",
    "\n",
    "# check if storage already exists\n",
    "PERSIST_DIR = \"./storage\"\n",
    "if not os.path.exists(PERSIST_DIR):\n",
    "    # load the documents and create the index\n",
    "    documents = SimpleDirectoryReader(\"data\").load_data()\n",
    "    index = VectorStoreIndex.from_documents(documents=documents,\n",
    "                                            service_context=service_context,\n",
    "                                            show_progress=True)\n",
    "    # store it for later\n",
    "    index.storage_context.persist(persist_dir=PERSIST_DIR)\n",
    "    print('BUILDING VECTOR STORE...')\n",
    "else:\n",
    "    # load the existing index\n",
    "    storage_context = StorageContext.from_defaults(persist_dir=PERSIST_DIR)\n",
    "    index = load_index_from_storage(storage_context, service_context=service_context)"
   ]
  },
  {
   "cell_type": "markdown",
   "id": "e20ba8e5-f8b4-4c3e-a134-ce48113099e8",
   "metadata": {
    "jp-MarkdownHeadingCollapsed": true
   },
   "source": [
    "# Query"
   ]
  },
  {
   "cell_type": "code",
   "execution_count": null,
   "id": "3b615977-5349-44d3-a2cc-b1416d6ae6f3",
   "metadata": {},
   "outputs": [],
   "source": [
    "query_engine = index.as_query_engine(service_context=service_context, similarity_top_k=2)"
   ]
  },
  {
   "cell_type": "code",
   "execution_count": 23,
   "id": "9c56f73d",
   "metadata": {
    "scrolled": true
   },
   "outputs": [
    {
     "name": "stderr",
     "output_type": "stream",
     "text": [
      "Llama.generate: prefix-match hit\n",
      "\n",
      "llama_print_timings:        load time =     152.24 ms\n",
      "llama_print_timings:      sample time =      41.99 ms /   419 runs   (    0.10 ms per token,  9977.62 tokens per second)\n",
      "llama_print_timings: prompt eval time =    3122.23 ms /  3325 tokens (    0.94 ms per token,  1064.94 tokens per second)\n",
      "llama_print_timings:        eval time =    9862.79 ms /   418 runs   (   23.60 ms per token,    42.38 tokens per second)\n",
      "llama_print_timings:       total time =   14044.03 ms /  3743 tokens\n"
     ]
    },
    {
     "name": "stdout",
     "output_type": "stream",
     "text": [
      "**********\n",
      "Trace: query\n",
      "    |_query ->  14.539336 seconds\n",
      "      |_retrieve ->  0.477999 seconds\n",
      "        |_embedding ->  0.341 seconds\n",
      "      |_synthesize ->  14.061337 seconds\n",
      "        |_templating ->  0.0 seconds\n",
      "        |_llm ->  14.053336 seconds\n",
      "**********\n",
      " Based on the reviews provided in the text file at the given path, users appreciate the following features of the Spotify application:\n",
      "- Intuitive interface\n",
      "- Fantastic recommendation engine\n",
      "- Customized playlists\n",
      "- Social tools for sharing\n",
      "- Ability to use it on various devices\n",
      "- Organization of music into playlists and folders\n",
      "- Wide range of music selection including podcasts and audio books\n",
      "- Easy navigation and discovery of new music\n",
      "- Ability to follow artists and save entire discographies\n",
      "- Cost-effectiveness for both free and paid versions\n",
      "- Availability of music offline\n",
      "- Sharing and building playlists with friends\n",
      "- Accessibility on various devices including Samsung phones and Gear Fit 2\n",
      "- Discovering new music and learning what they like before investing money\n",
      "- Offline mode feature for listening to favorite songs anywhere\n",
      "- Integration with other apps and devices such as Android Auto and BMW ConnectedDrive (when functioning properly)\n",
      "- Ability to pause, play, and skip songs easily\n",
      "- Availability of music stories, news, releases, music learning courses, and music stories/news/releases from popular gurus (suggested by some users)\n",
      "- Affordability of premium version for some users\n",
      "- Availability of music even when data connection is lost (offline mode)\n",
      "- No ads for premium users (except for podcasts which have their own sponsorship deals)\n",
      "- Ability to rename playlists without deleting them (suggested by some users)\n",
      "- Swipe right to queue (suggested by some users)\n",
      "- Release note summaries when new versions are released (suggested by some users)\n",
      "- Ability to set a sleep timer for playlists (suggested by some users)\n",
      "- Ability to listen to music while using other apps (suggested by some users)\n",
      "- Availability of music that is missing on YouTube (suggested by some users)\n"
     ]
    }
   ],
   "source": [
    "response = query_engine.query(\"What are the specific features or aspects that users appreciate the most in our application?\")\n",
    "print(response)"
   ]
  },
  {
   "cell_type": "code",
   "execution_count": 24,
   "id": "5072d6e7",
   "metadata": {},
   "outputs": [
    {
     "name": "stdout",
     "output_type": "stream",
     "text": [
      "dict_keys(['response', 'source_nodes', 'metadata'])\n"
     ]
    },
    {
     "data": {
      "text/plain": [
       "' Based on the reviews provided in the text file at the given path, users appreciate the following features of the Spotify application:\\n- Intuitive interface\\n- Fantastic recommendation engine\\n- Customized playlists\\n- Social tools for sharing\\n- Ability to use it on various devices\\n- Organization of music into playlists and folders\\n- Wide range of music selection including podcasts and audio books\\n- Easy navigation and discovery of new music\\n- Ability to follow artists and save entire discographies\\n- Cost-effectiveness for both free and paid versions\\n- Availability of music offline\\n- Sharing and building playlists with friends\\n- Accessibility on various devices including Samsung phones and Gear Fit 2\\n- Discovering new music and learning what they like before investing money\\n- Offline mode feature for listening to favorite songs anywhere\\n- Integration with other apps and devices such as Android Auto and BMW ConnectedDrive (when functioning properly)\\n- Ability to pause, play, and skip songs easily\\n- Availability of music stories, news, releases, music learning courses, and music stories/news/releases from popular gurus (suggested by some users)\\n- Affordability of premium version for some users\\n- Availability of music even when data connection is lost (offline mode)\\n- No ads for premium users (except for podcasts which have their own sponsorship deals)\\n- Ability to rename playlists without deleting them (suggested by some users)\\n- Swipe right to queue (suggested by some users)\\n- Release note summaries when new versions are released (suggested by some users)\\n- Ability to set a sleep timer for playlists (suggested by some users)\\n- Ability to listen to music while using other apps (suggested by some users)\\n- Availability of music that is missing on YouTube (suggested by some users)'"
      ]
     },
     "execution_count": 24,
     "metadata": {},
     "output_type": "execute_result"
    }
   ],
   "source": [
    "print(vars(response).keys())\n",
    "response.response"
   ]
  },
  {
   "cell_type": "code",
   "execution_count": 25,
   "id": "662bd2d5",
   "metadata": {},
   "outputs": [
    {
     "name": "stdout",
     "output_type": "stream",
     "text": [
      "3\n"
     ]
    },
    {
     "data": {
      "text/plain": [
       "\"I do hope there's more interface customization in the future for the home page.\\r\\nSpotify has the best intuitive interface, a fantastic recommendation engine powering its customized playlists, new features added all the time, social tools that make sharing easy, plus you can use it almost anywhere through almost any device. I really like what you have done with the design recently giving it more of a Fluid Look so Keep it Up ✌🏻.\\r\\nI watch the video for 30 minites of ad free music and then it will play 3 ads every two songs. And long ads at that. Really wish they were honest when it came to there few free perks when using the app. And no i dont want premium. Another thing is when I press play and it finishes the one song it starts playing the song that I just played before it all because I paused it and shut down the app for like maybe an hour when I go back to finish the playlist it start over again\\r\\nThe app itself is very intuitive and works well. I can typically find what I'm looking for with ease. My issue with the app is the compatibility with Android Auto. AA is a staple in my day to day activities including voice commands for music or podcasts. This app has been very inconsistent lately with Android Auto, causing issues connecting to music. The fact that I PAY for this service monthly makes me feel this should be rectified asap. I will change my review when this issue is resolved.\\r\\nI really like this app because it's so easy to make different playlists and put them in folders. I like to have my music organized so this app is perfect for me. It has a lot of song on here but sometimes they don't always have the song your looking for. The have audio books on here and radio stations. They have playlists for what you may be feeling. I just think this is a really good app.\\r\\nI've been a Spotify user for 9-10 years now and have had premium for the last at least 3-4 years. It's always my go to source for music no matter the circumstances. It makes it easy to find the music you're looking for and even more so all the music you didn't know you were looking for.\\r\\nIt occasionally gets glitches and bugs, but the developers usually fix it. The free version needs a variety of ads, instead of the 1-5 ads stuck on repeat, which annoys my neighbors to no end. Other that those downs, the upside is everything, especially following artists and saving entire discographies. Worth the free and the paid versions.\\r\\nSpotify is my go to when it comes to my music. I also have other players but this is my number uno!! The platform makes it easy to navigate and it's cost friendly! Every song I like is on here and easy to find! I highly recommend!!\\r\\nI pay for an account so I don't have to listen to ads when working or driving but now it is playing them anyway. It is complete BS and false advertising to say pay and you won't have ads but play them anyway. I don't mind when the Podcasters have their own ads, they have sponsorship deals so they actually get money for it, this is just double dipping from spotify.\\r\\nUsed to be pretty great, now, I cannot find things like, the shuffle button, nor can I search my library in any meaningful way. I just have to pretty much know exactly what I'm looking for or play something I've recently played. Podcasts were always a huge pain in the butt to navigate, but now, if you listen to more than two or three shows, good luck finding or organizing your episodes at all. The interface has been steadily becoming less and less usable with each update.\\r\\nI love to use this app and all, but I hate how on my phone I need to pay for Premium to turn shuffle off, it gets really annoying sometimes. I was hoping you could at least add a way to turn it off for like a set amount of playlists, like 3 maximum and then no more turning shuffle off on other playlists unless you wanna swap it.\\r\\nOMG OMG OMG OMG !!!! THIS IS THE BEST APP IF YOU WANT TO LISTEN SONGS. PREVIOUSLY I DIDN'T HAD THE HABIT OF LISTENING SONGS BUT MY BEST FRIEND GAVE THAT HABIT TO ME AND I STARTED TO LISTEN SONGS THAT WAS MY STORY ABOUT SONGS.I WILL RECOMMEND YOU THIS APP ALL ANDROID USERS CAN USE THIS APP AND THE BEST THING IS THAT YOU CAM CONNECT IT WOTH YOUR PC WITH SAME AS WELL AS WITH A DIFFERENT ACCOUNT. THIS IS A VERY GOOD APP FOR SONG LISTENERS THANKS!!\""
      ]
     },
     "execution_count": 25,
     "metadata": {},
     "output_type": "execute_result"
    }
   ],
   "source": [
    "# Number of nodes\n",
    "print(len(response.source_nodes))\n",
    "# Print first node result\n",
    "response.source_nodes[0].node.text"
   ]
  },
  {
   "cell_type": "code",
   "execution_count": 26,
   "id": "7824a952",
   "metadata": {},
   "outputs": [
    {
     "data": {
      "text/plain": [
       "\"I'm impressed with the overall look, range of choices and auto playlist design. There's still a lot of room for improvement in user experience area for non-premium users. I often try to listen to a new playlist but after the annoying 'listen to this ad for 30 mins of uninterrupted listening' the media player starts playing a song from a completely different playlist first. Like there's no way Lane 8 would be on the same playlist as Kumar Sanu.\\r\\nI only use this app to listen to podcasts and for that purpose it's great. It keeps a list of all the podcasts I follow and a list that's updated daily with the podcasts' new episodes. My only issue is the lock screen controls. I can no longer use them to pause or play a podcast, but can use them to move between episodes within a podcast. This issue began after the last update (2-26-20) and is very annoying. Were it not for this issue, I'd give the app five stars.\\r\\nCan't pause a song. Why do I need a stable internet connection to pause a song?\\r\\nFormer long-time iHeartRadio subscriber. I left them because the app became glitchy and the developers were unresponsive to the needs of the customer. I Love the Spotify format. Would have rated 5-stars if I could just figure out how to rename my playlists without deleting them and starting over. Lastly, it would also be nice to be able to drill down for more information on the artists.\\r\\nMi plataforma predeterminada para escuchar musica.\\r\\nRecomendo colocarem uma aba de Histórico, para quando tocar músicas parecidas no aleatório, ela ficar registrada no aplicativo, de resto tá ótimo\\r\\nFell in love with app and thier devs. Really interesting to see how effectively they designed and developed. Reching all corners, seems the perfect example of digital transformation !! Suggestions to add features like - spotify music stories/news/releases , so that users can follow/read - even though premium is there, put albums/songs for sale for less price. So that users can buy and listen forever in your app. - music learning courses (live, if possible) free/payable from popular gurus.\\r\\nIts Great!! Just look for a song title or Artist and there it is, not to mention you also get information of bands related to the type of music you're looking for and that way you can make an amazing library of your choice and enjoy it anytime anywhere!! I love spotify!! I'm sure you will too👍thanks for being here, SAL.\\r\\nI've used Spotify for a few years now and I've had premium for most of the time. But recently after the new update a rather annoying thing happens. I'll be listening to a playlist and instead of continuing to play the songs from my playlist it will just play a random song. It's irritating enough I'm thinking of switching music providers.\\r\\nWell worth the price of admission. Only complaint is that the app freezes up at least once on my phone every time I work out. I thought it was just my phone, but it freezes up periodically on both my laptop and smart TV as well. Still, for such a vast music selection at the tip of your fingers, I will gladly put up with a few bugs. I grew up with Napster on dial-up and often waited days for a single song to download, so a couple of occasional pauses is nothing.\\r\\nIt was really good until the moment some genius came up with the idea of not being able to choose songs unless you pay. It is literally the stupidest idea one ever had. Spotify is supposed to be an app that lets you listen to the music you want and recommends songs that you like based on that. If it is going to play whatever it wants and only lets me skip 6 songs per hour, it is not ok. If that is the case, I can use YouTube, which is completely free and lets you actually choose what you watch.\\r\\nNot quite on par with the iPhone app. Needs swipe right to queue for example.\\r\\nThanks for fixing it. I don't know what happened, but I can properly log in now so thanks. All I ask now is actually record what your updates do so people can figure out what went wrong when something goes wrong\\r\\nGreat app easy to use lots of music! Only gripe is premium is too expensive. I wouldn't pay more than 3-4$/month. If you stumble on a special 3 months for 10$,it's a no brainer insta sub. Be aware it's missing a lot of songs and albums that you find on YouTube.\""
      ]
     },
     "execution_count": 26,
     "metadata": {},
     "output_type": "execute_result"
    }
   ],
   "source": [
    "# Print second node result\n",
    "response.source_nodes[1].node.text"
   ]
  },
  {
   "cell_type": "code",
   "execution_count": 27,
   "id": "2d5aaf17",
   "metadata": {},
   "outputs": [],
   "source": []
  }
 ],
 "metadata": {
  "kernelspec": {
   "display_name": "Python 3 (ipykernel)",
   "language": "python",
   "name": "python3"
  },
  "language_info": {
   "codemirror_mode": {
    "name": "ipython",
    "version": 3
   },
   "file_extension": ".py",
   "mimetype": "text/x-python",
   "name": "python",
   "nbconvert_exporter": "python",
   "pygments_lexer": "ipython3",
   "version": "3.10.12"
  }
 },
 "nbformat": 4,
 "nbformat_minor": 5
}
